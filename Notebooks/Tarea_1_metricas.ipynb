{
 "cells": [
  {
   "cell_type": "markdown",
   "id": "9e995584",
   "metadata": {},
   "source": [
    "# Tarea 1\n",
    "\n",
    "Santiago Martínez Novoa - 202112020\n",
    "\n",
    "David Gonzalez Vargas - 202110240"
   ]
  },
  {
   "cell_type": "code",
   "execution_count": 75,
   "id": "6ba2f4e1",
   "metadata": {},
   "outputs": [],
   "source": [
    "import pandas as pd\n",
    "import numpy as np\n",
    "from typing import List"
   ]
  },
  {
   "cell_type": "markdown",
   "id": "ab2975ef",
   "metadata": {},
   "source": [
    "## Punto 1. Métricas de evaluación"
   ]
  },
  {
   "cell_type": "markdown",
   "id": "02d86ba0",
   "metadata": {},
   "source": [
    "### Precision"
   ]
  },
  {
   "cell_type": "code",
   "execution_count": 76,
   "id": "a0d9fc3f",
   "metadata": {},
   "outputs": [],
   "source": [
    "def precision(relevance_query:List[int]) -> float:\n",
    "    \"\"\"\n",
    "    Calcula la precision de una consulta dada una lista de relevancia binaria\n",
    "    Args:\n",
    "        relevance_query (List[int]): Lista de relevancia binaria (1=relevante, 0=no relevante)\n",
    "    Returns:\n",
    "        float: Precision de la consulta\n",
    "    \"\"\"\n",
    "    relevance_query = np.array(relevance_query)\n",
    "    return np.mean(relevance_query)"
   ]
  },
  {
   "cell_type": "code",
   "execution_count": 77,
   "id": "08c8403a",
   "metadata": {},
   "outputs": [
    {
     "name": "stdout",
     "output_type": "stream",
     "text": [
      "0.25\n"
     ]
    }
   ],
   "source": [
    "relevance_query_1 = [0, 0, 0, 1]\n",
    "\n",
    "print(precision(relevance_query_1))"
   ]
  },
  {
   "cell_type": "markdown",
   "id": "c9810bff",
   "metadata": {},
   "source": [
    "### Precision @ K"
   ]
  },
  {
   "cell_type": "code",
   "execution_count": 78,
   "id": "4c131f73",
   "metadata": {},
   "outputs": [],
   "source": [
    "def precision_at_k(relevance_query: List[int], k: int) -> float:\n",
    "    \"\"\"\n",
    "    Calcula la precision en el top-k de una consulta dada una lista de relevancia binaria\n",
    "    Args:\n",
    "        relevance_query (List[int]): Lista de relevancia binaria (1=relevante, 0=no relevante)\n",
    "        k (int): Número de elementos a considerar en el top-k\n",
    "    Returns:\n",
    "        float: Precision en el top-k de la consulta\n",
    "    \"\"\"\n",
    "    if k <= 0:\n",
    "        raise ValueError(\"k debe ser un entero positivo menor o igual al tamaño de la lista de relevancia\")\n",
    "    \n",
    "    relevance_query = np.array(relevance_query)[:k]\n",
    "    return np.mean(relevance_query)"
   ]
  },
  {
   "cell_type": "code",
   "execution_count": 79,
   "id": "bade19fd",
   "metadata": {},
   "outputs": [
    {
     "name": "stdout",
     "output_type": "stream",
     "text": [
      "0.0\n"
     ]
    }
   ],
   "source": [
    "relevance_query_2 = [0, 0, 0, 1]\n",
    "k = 1\n",
    "print(precision_at_k(relevance_query_2, k))"
   ]
  },
  {
   "cell_type": "markdown",
   "id": "d2c1e52b",
   "metadata": {},
   "source": [
    "### Recall @ K"
   ]
  },
  {
   "cell_type": "code",
   "execution_count": 80,
   "id": "2b02ad18",
   "metadata": {},
   "outputs": [],
   "source": [
    "def recall_at_k(relevance_query: List[int], number_relevant_docs: int,  k: int) -> float:\n",
    "    \"\"\"\n",
    "    Calcula la recall en el top-k de una consulta dada una lista de relevancia binaria\n",
    "    Args:\n",
    "        relevance_query (List[int]): Lista de relevancia binaria (1=relevante, 0=no relevante)\n",
    "        number_relevant_docs (int): Número total de documentos relevantes\n",
    "        k (int): Número de elementos a considerar en el top-k\n",
    "    Returns:\n",
    "        float: Recall en el top-k de la consulta\n",
    "    \"\"\"\n",
    "    if k <= 0:\n",
    "        raise ValueError(\"k debe ser un entero positivo menor o igual al tamaño de la lista de relevancia\")\n",
    "    if number_relevant_docs <= 0:\n",
    "        raise ValueError(\"El número de documentos relevantes debe ser un entero positivo\")\n",
    "        \n",
    "    relevance_query = np.array(relevance_query)[:k]\n",
    "    return np.sum(relevance_query) / number_relevant_docs\n",
    "    "
   ]
  },
  {
   "cell_type": "code",
   "execution_count": 81,
   "id": "93b8a8a9",
   "metadata": {},
   "outputs": [
    {
     "name": "stdout",
     "output_type": "stream",
     "text": [
      "0.0\n"
     ]
    }
   ],
   "source": [
    "relevance_query_3 = [0, 0, 0, 1]\n",
    "k = 1\n",
    "number_relevant_docs = 4\n",
    "\n",
    "print(recall_at_k(relevance_query_3, number_relevant_docs, k))"
   ]
  },
  {
   "cell_type": "markdown",
   "id": "ef2509fd",
   "metadata": {},
   "source": [
    "### Average Precision"
   ]
  },
  {
   "cell_type": "code",
   "execution_count": 82,
   "id": "8be8d541",
   "metadata": {},
   "outputs": [],
   "source": [
    "def average_precision(relevance_query: List[int]) -> float:\n",
    "    \"\"\"\n",
    "    Calcula la precisión promedio de una consulta dada una lista de relevancia binaria\n",
    "    Args:\n",
    "        relevance_query (List[int]): Lista de relevancia binaria (1=relevante, 0=no relevante)\n",
    "    Returns:\n",
    "        float: Precisión promedio de la consulta\n",
    "    \"\"\"\n",
    "    relevance_query = np.array(relevance_query)\n",
    "    cumulative_precision = 0.0\n",
    "    for i in range(len(relevance_query)):\n",
    "        if relevance_query[i] == 1:\n",
    "            cumulative_precision += precision_at_k(relevance_query, i + 1)\n",
    "    if np.sum(relevance_query) == 0:\n",
    "        return 0.0\n",
    "    return cumulative_precision / np.sum(relevance_query)"
   ]
  },
  {
   "cell_type": "code",
   "execution_count": 83,
   "id": "52af8627",
   "metadata": {},
   "outputs": [
    {
     "name": "stdout",
     "output_type": "stream",
     "text": [
      "0.5961904761904762\n"
     ]
    }
   ],
   "source": [
    "relevance_query_4 = [0,1,0,1,1,1,1]\n",
    "print(average_precision(relevance_query_4))"
   ]
  },
  {
   "cell_type": "markdown",
   "id": "353eb6cc",
   "metadata": {},
   "source": [
    "### Mean Average Precision (mAP)"
   ]
  },
  {
   "cell_type": "code",
   "execution_count": 84,
   "id": "30433664",
   "metadata": {},
   "outputs": [],
   "source": [
    "def mean_average_precision(relevance_queries: List[List[int]]) -> float:\n",
    "    \"\"\"\n",
    "    Calcula la precisión promedio de un conjunto de consultas\n",
    "    Args:\n",
    "        relevance_queries (List[List[int]]): Lista de listas de relevancia binaria\n",
    "    Returns:\n",
    "        float: Precisión promedio de todas las consultas\n",
    "    \"\"\"\n",
    "    return np.mean([average_precision(query) for query in relevance_queries])"
   ]
  },
  {
   "cell_type": "code",
   "execution_count": 91,
   "id": "ddd36fd2",
   "metadata": {},
   "outputs": [
    {
     "name": "stdout",
     "output_type": "stream",
     "text": [
      "0.532063492063492\n",
      "0.5764285714285714\n"
     ]
    }
   ],
   "source": [
    "queries = [\n",
    "    [0, 1, 0, 1, 1, 1, 1],\n",
    "    [1, 0, 1, 0, 1, 0, 1],\n",
    "    [0, 0, 0, 0, 0, 0, 0],\n",
    "    [1, 1, 1, 1, 1, 1, 1]\n",
    "]\n",
    "relevance_query_list = [\n",
    "    [0, 1, 0, 1, 1, 1, 1],  # AP ≈ 0.5961904761904762\n",
    "    [1, 0, 0, 0],           # AP = 1.0\n",
    "    [0, 0, 0],              # AP = 0.0\n",
    "]\n",
    "print(mean_average_precision(relevance_query_list))\n",
    "print(mean_average_precision(queries))"
   ]
  },
  {
   "cell_type": "markdown",
   "id": "781d9b1f",
   "metadata": {},
   "source": [
    "### DCG @ K"
   ]
  },
  {
   "cell_type": "code",
   "execution_count": 86,
   "id": "7705c0b5",
   "metadata": {},
   "outputs": [],
   "source": [
    "def dcg_at_k(relevance_scores: List[int], k: int) -> float:\n",
    "    \"\"\"\n",
    "    Calcula el Discounted Cumulative Gain (DCG) en la posición k\n",
    "    Args:\n",
    "        relevance_scores (List[int]): Lista de relevancia (1=relevante, 0=no relevante)\n",
    "        k (int): La posición hasta la cual calcular el DCG\n",
    "    Returns:\n",
    "        float: El valor del DCG en la posición k\n",
    "    \"\"\"\n",
    "    relevance_scores = np.array(relevance_scores)[:k]\n",
    "    positions = np.arange(1, len(relevance_scores) + 1)\n",
    "    discounts = np.log2(np.maximum(positions, 2))\n",
    "    dgc = np.sum(relevance_scores / discounts)\n",
    "    return dgc"
   ]
  },
  {
   "cell_type": "code",
   "execution_count": 87,
   "id": "a637bf89",
   "metadata": {},
   "outputs": [
    {
     "name": "stdout",
     "output_type": "stream",
     "text": [
      "10.279642067948915\n"
     ]
    }
   ],
   "source": [
    "relevance_query_3  = [4, 4, 3, 0, 0, 1, 3, 3, 3, 0]\n",
    "k = 6\n",
    "print(dcg_at_k(relevance_query_3, k))"
   ]
  },
  {
   "cell_type": "markdown",
   "id": "d43a96da",
   "metadata": {},
   "source": [
    "### NDCG @ K"
   ]
  },
  {
   "cell_type": "code",
   "execution_count": 89,
   "id": "87a4902f",
   "metadata": {},
   "outputs": [],
   "source": [
    "def ndcg_at_k(relevance_scores: List[int], k: int) -> float:\n",
    "    \"\"\"\n",
    "    Calcula el Normalized Discounted Cumulative Gain (NDCG) en la posición k\n",
    "    Args:\n",
    "        relevance_scores (List[int]): Lista de relevancia (1=relevante, 0=no relevante)\n",
    "        k (int): La posición hasta la cual calcular el NDCG\n",
    "    Returns:\n",
    "        float: El valor del NDCG en la posición k\n",
    "    \"\"\"\n",
    "    dcg = dcg_at_k(relevance_scores, k)\n",
    "    ideal_relevance = np.sort(relevance_scores)[::-1][:k]\n",
    "    idcg = dcg_at_k(ideal_relevance, k)\n",
    "    if idcg == 0:\n",
    "        return 0.0\n",
    "    return dcg / idcg"
   ]
  },
  {
   "cell_type": "code",
   "execution_count": 90,
   "id": "7b7285c6",
   "metadata": {},
   "outputs": [
    {
     "name": "stdout",
     "output_type": "stream",
     "text": [
      "0.7424602308163405\n"
     ]
    }
   ],
   "source": [
    "relevance_query_3  = [4, 4, 3, 0, 0, 1, 3, 3, 3, 0]\n",
    "k = 6\n",
    "print(ndcg_at_k(relevance_query_3, k))"
   ]
  }
 ],
 "metadata": {
  "kernelspec": {
   "display_name": ".venv",
   "language": "python",
   "name": "python3"
  },
  "language_info": {
   "codemirror_mode": {
    "name": "ipython",
    "version": 3
   },
   "file_extension": ".py",
   "mimetype": "text/x-python",
   "name": "python",
   "nbconvert_exporter": "python",
   "pygments_lexer": "ipython3",
   "version": "3.11.5"
  }
 },
 "nbformat": 4,
 "nbformat_minor": 5
}
